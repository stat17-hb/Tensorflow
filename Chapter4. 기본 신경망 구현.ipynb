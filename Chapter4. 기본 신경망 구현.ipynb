{
 "cells": [
  {
   "cell_type": "markdown",
   "metadata": {},
   "source": [
    "# 4장. 기본 신경망 구현"
   ]
  },
  {
   "cell_type": "code",
   "execution_count": 1,
   "metadata": {},
   "outputs": [
    {
     "name": "stderr",
     "output_type": "stream",
     "text": [
      "C:\\Users\\kist1\\Anaconda3\\lib\\site-packages\\h5py\\__init__.py:36: FutureWarning: Conversion of the second argument of issubdtype from `float` to `np.floating` is deprecated. In future, it will be treated as `np.float64 == np.dtype(float).type`.\n",
      "  from ._conv import register_converters as _register_converters\n"
     ]
    }
   ],
   "source": [
    "import tensorflow as tf"
   ]
  },
  {
   "cell_type": "code",
   "execution_count": 2,
   "metadata": {},
   "outputs": [],
   "source": [
    "import numpy as np"
   ]
  },
  {
   "cell_type": "markdown",
   "metadata": {},
   "source": [
    "## 1. 학습 데이터 정의"
   ]
  },
  {
   "cell_type": "code",
   "execution_count": 29,
   "metadata": {},
   "outputs": [
    {
     "data": {
      "text/plain": [
       "array([[0, 0],\n",
       "       [1, 0],\n",
       "       [1, 1],\n",
       "       [0, 0],\n",
       "       [0, 0],\n",
       "       [0, 1]])"
      ]
     },
     "execution_count": 29,
     "metadata": {},
     "output_type": "execute_result"
    }
   ],
   "source": [
    "# [털, 날개]\n",
    "x_data = np.array([[0,0], [1,0], [1,1], [0,0], [0,0], [0,1]])\n",
    "x_data"
   ]
  },
  {
   "cell_type": "markdown",
   "metadata": {},
   "source": [
    "+ 있으면 1, 없으면 0"
   ]
  },
  {
   "cell_type": "code",
   "execution_count": 30,
   "metadata": {},
   "outputs": [
    {
     "data": {
      "text/plain": [
       "array([[1, 0, 0],\n",
       "       [0, 1, 0],\n",
       "       [0, 0, 1],\n",
       "       [1, 0, 0],\n",
       "       [1, 0, 0],\n",
       "       [0, 0, 1]])"
      ]
     },
     "execution_count": 30,
     "metadata": {},
     "output_type": "execute_result"
    }
   ],
   "source": [
    "y_data = np.array([\n",
    "                 [1, 0, 0], # 기타\n",
    "                 [0, 1, 0], # 포유류\n",
    "                 [0, 0, 1], # 조류\n",
    "                 [1, 0, 0],\n",
    "                 [1, 0, 0],\n",
    "                 [0, 0, 1]\n",
    "])\n",
    "y_data"
   ]
  },
  {
   "cell_type": "markdown",
   "metadata": {},
   "source": [
    "## 2. 신경망 모델 구성"
   ]
  },
  {
   "cell_type": "markdown",
   "metadata": {},
   "source": [
    "특징 X와 레이블 Y의 관계를 알아내는 모델"
   ]
  },
  {
   "cell_type": "code",
   "execution_count": 31,
   "metadata": {},
   "outputs": [],
   "source": [
    "X = tf.placeholder(tf.float32)\n",
    "Y = tf.placeholder(tf.float32)"
   ]
  },
  {
   "cell_type": "code",
   "execution_count": 32,
   "metadata": {},
   "outputs": [],
   "source": [
    "W = tf.Variable(tf.random_uniform([2, 3], -1., 1.))"
   ]
  },
  {
   "cell_type": "markdown",
   "metadata": {},
   "source": [
    "Q. 왜 숫자 뒤에 .을 붙여준거지?"
   ]
  },
  {
   "cell_type": "code",
   "execution_count": 33,
   "metadata": {},
   "outputs": [
    {
     "data": {
      "text/plain": [
       "True"
      ]
     },
     "execution_count": 33,
     "metadata": {},
     "output_type": "execute_result"
    }
   ],
   "source": [
    "1. == 1"
   ]
  },
  {
   "cell_type": "code",
   "execution_count": 34,
   "metadata": {},
   "outputs": [
    {
     "data": {
      "text/plain": [
       "int"
      ]
     },
     "execution_count": 34,
     "metadata": {},
     "output_type": "execute_result"
    }
   ],
   "source": [
    "type(1)"
   ]
  },
  {
   "cell_type": "code",
   "execution_count": 35,
   "metadata": {},
   "outputs": [
    {
     "data": {
      "text/plain": [
       "float"
      ]
     },
     "execution_count": 35,
     "metadata": {},
     "output_type": "execute_result"
    }
   ],
   "source": [
    "type(1.)"
   ]
  },
  {
   "cell_type": "markdown",
   "metadata": {},
   "source": [
    "X와 Y를 float32로 선언해줘서 숫자 뒤에 .을 붙인 듯"
   ]
  },
  {
   "cell_type": "code",
   "execution_count": 36,
   "metadata": {},
   "outputs": [
    {
     "name": "stdout",
     "output_type": "stream",
     "text": [
      "[[-0.8017669   0.44110584  0.11537504]\n",
      " [-0.85579705 -0.16216707 -0.8831396 ]]\n"
     ]
    }
   ],
   "source": [
    "sess = tf.Session()\n",
    "sess.run(tf.global_variables_initializer()) # Variable을 사용하면 값을 출력하기 전에 초기화를 한 번 시켜줘야 함\n",
    "print(sess.run(W))\n",
    "sess.close()"
   ]
  },
  {
   "cell_type": "markdown",
   "metadata": {},
   "source": [
    "+ 가중치 W는 [입력층(feature 수), 출력층(레이블 수)]로 설정"
   ]
  },
  {
   "cell_type": "code",
   "execution_count": 37,
   "metadata": {},
   "outputs": [],
   "source": [
    "b = tf.Variable(tf.zeros([3]))"
   ]
  },
  {
   "cell_type": "code",
   "execution_count": 22,
   "metadata": {},
   "outputs": [
    {
     "name": "stdout",
     "output_type": "stream",
     "text": [
      "[0. 0. 0.]\n"
     ]
    }
   ],
   "source": [
    "sess = tf.Session()\n",
    "sess.run(tf.global_variables_initializer()) # Variable을 사용하면 값을 출력하기 전에 초기화를 한 번 시켜줘야 함\n",
    "print(sess.run(b))\n",
    "sess.close()"
   ]
  },
  {
   "cell_type": "code",
   "execution_count": 38,
   "metadata": {},
   "outputs": [],
   "source": [
    "L = tf.add(tf.matmul(X, W), b)"
   ]
  },
  {
   "cell_type": "code",
   "execution_count": 39,
   "metadata": {},
   "outputs": [
    {
     "name": "stdout",
     "output_type": "stream",
     "text": [
      "[[ 0.          0.          0.        ]\n",
      " [-0.28790188 -0.08917403 -0.8612075 ]\n",
      " [-0.609107   -0.20682669 -1.7588959 ]\n",
      " [ 0.          0.          0.        ]\n",
      " [ 0.          0.          0.        ]\n",
      " [-0.32120514 -0.11765265 -0.8976884 ]]\n"
     ]
    }
   ],
   "source": [
    "sess = tf.Session()\n",
    "sess.run(tf.global_variables_initializer()) # Variable을 사용하면 값을 출력하기 전에 초기화를 한 번 시켜줘야 함\n",
    "print(sess.run(L, feed_dict={X: x_data}))\n",
    "sess.close()"
   ]
  },
  {
   "cell_type": "code",
   "execution_count": 40,
   "metadata": {},
   "outputs": [],
   "source": [
    "L = tf.nn.relu(L)"
   ]
  },
  {
   "cell_type": "code",
   "execution_count": 41,
   "metadata": {},
   "outputs": [
    {
     "name": "stdout",
     "output_type": "stream",
     "text": [
      "[[0.         0.         0.        ]\n",
      " [0.         0.03219104 0.09232306]\n",
      " [0.         0.7648871  0.        ]\n",
      " [0.         0.         0.        ]\n",
      " [0.         0.         0.        ]\n",
      " [0.55712485 0.73269606 0.        ]]\n"
     ]
    }
   ],
   "source": [
    "sess = tf.Session()\n",
    "sess.run(tf.global_variables_initializer()) # Variable을 사용하면 값을 출력하기 전에 초기화를 한 번 시켜줘야 함\n",
    "print(sess.run(L, feed_dict={X: x_data}))\n",
    "sess.close()"
   ]
  },
  {
   "cell_type": "code",
   "execution_count": 43,
   "metadata": {},
   "outputs": [],
   "source": [
    "model = tf.nn.softmax(L)"
   ]
  },
  {
   "cell_type": "markdown",
   "metadata": {},
   "source": [
    "+ softmax 함수는 배열 내의 결과값들을 전체 합이 1이 되도록 만들어 준다."
   ]
  },
  {
   "cell_type": "code",
   "execution_count": 44,
   "metadata": {},
   "outputs": [
    {
     "name": "stdout",
     "output_type": "stream",
     "text": [
      "[[0.33333334 0.33333334 0.33333334]\n",
      " [0.2933183  0.4172785  0.28940314]\n",
      " [0.41253552 0.29373223 0.29373223]\n",
      " [0.33333334 0.33333334 0.33333334]\n",
      " [0.33333334 0.33333334 0.33333334]\n",
      " [0.40928277 0.29535863 0.29535863]]\n"
     ]
    }
   ],
   "source": [
    "sess = tf.Session()\n",
    "sess.run(tf.global_variables_initializer()) # Variable을 사용하면 값을 출력하기 전에 초기화를 한 번 시켜줘야 함\n",
    "print(sess.run(model, feed_dict={X: x_data}))\n",
    "sess.close()"
   ]
  },
  {
   "cell_type": "markdown",
   "metadata": {},
   "source": [
    "+ 행 합이 1이 되는 것을 볼 수 있다."
   ]
  },
  {
   "cell_type": "markdown",
   "metadata": {},
   "source": [
    "## Softmax classifier"
   ]
  },
  {
   "cell_type": "markdown",
   "metadata": {},
   "source": [
    "http://umbum.tistory.com/198"
   ]
  },
  {
   "cell_type": "markdown",
   "metadata": {},
   "source": [
    "### Binary Logistic Regression(이항 로지스틱 회귀)"
   ]
  },
  {
   "cell_type": "markdown",
   "metadata": {},
   "source": [
    "$p = P(Y=1)$이라 할 때,"
   ]
  },
  {
   "cell_type": "markdown",
   "metadata": {},
   "source": [
    "$$log(\\frac{p}{1-p})=\\beta_0+\\Sigma_{i=1}^n(\\beta_i x_i)$$\n",
    "\n",
    "$$\\frac{p}{1-p}=e^{\\beta_0+\\Sigma_{i=1}^n(\\beta_i x_i)}$$\n",
    "\n",
    "$$p = (1-p)e^{\\beta_0+\\Sigma_{i=1}^n(\\beta_i x_i)}$$\n",
    "\n",
    "$$(1+e^{\\beta_0+\\Sigma_{i=1}^n(\\beta_i x_i)})p = e^{\\beta_0+\\Sigma_{i=1}^n(\\beta_i x_i)}$$\n",
    "\n",
    "$$p = \\frac{e^{\\beta_0+\\Sigma_{i=1}^n(\\beta_i x_i)}}{1+e^{\\beta_0+\\Sigma_{i=1}^n(\\beta_i x_i)}}$$"
   ]
  },
  {
   "cell_type": "markdown",
   "metadata": {},
   "source": [
    "### Multinomial Logistic Regression(다항 로지스틱 회귀) = Softmax Regression"
   ]
  },
  {
   "cell_type": "markdown",
   "metadata": {},
   "source": [
    "Y가 C개 항목 중 k번째에 해당할 확률"
   ]
  },
  {
   "cell_type": "markdown",
   "metadata": {},
   "source": [
    "$$P(Y=k) = \\frac{e^{\\beta_{0k} + \\Sigma_i \\beta_{ik} x_i}}{\\Sigma_{c \\in C}e^{\\beta_{0c} + \\Sigma_i \\beta_{ic} x_i}}$$"
   ]
  },
  {
   "cell_type": "code",
   "execution_count": 3,
   "metadata": {},
   "outputs": [],
   "source": [
    "x = np.array(\n",
    "    [[0.  ,      0.     ,   0.       ],\n",
    " [0.      ,  0.  ,      0.       ],\n",
    " [0.4439044, 0.  ,      0.1958158],\n",
    " [0.       , 0.  ,      0.       ],\n",
    " [0.       , 0.   ,     0.       ],\n",
    " [0.5154867, 0.   ,     0.5130191]])"
   ]
  },
  {
   "cell_type": "code",
   "execution_count": 4,
   "metadata": {},
   "outputs": [],
   "source": [
    "y = np.exp(x)"
   ]
  },
  {
   "cell_type": "code",
   "execution_count": 236,
   "metadata": {},
   "outputs": [
    {
     "data": {
      "text/plain": [
       "(6, 3)"
      ]
     },
     "execution_count": 236,
     "metadata": {},
     "output_type": "execute_result"
    }
   ],
   "source": [
    "y.shape"
   ]
  },
  {
   "cell_type": "code",
   "execution_count": 5,
   "metadata": {},
   "outputs": [],
   "source": [
    "one = np.ones(3)"
   ]
  },
  {
   "cell_type": "code",
   "execution_count": 6,
   "metadata": {},
   "outputs": [],
   "source": [
    "one = one.reshape(1,3)"
   ]
  },
  {
   "cell_type": "code",
   "execution_count": 8,
   "metadata": {},
   "outputs": [
    {
     "data": {
      "text/plain": [
       "array([3.        , 3.        , 3.7750843 , 3.        , 3.        ,\n",
       "       4.34477973])"
      ]
     },
     "execution_count": 8,
     "metadata": {},
     "output_type": "execute_result"
    }
   ],
   "source": [
    "np.sum(y, axis=1)"
   ]
  },
  {
   "cell_type": "code",
   "execution_count": 9,
   "metadata": {},
   "outputs": [
    {
     "data": {
      "text/plain": [
       "array([[3.        , 3.        , 3.        ],\n",
       "       [3.        , 3.        , 3.        ],\n",
       "       [3.7750843 , 3.7750843 , 3.7750843 ],\n",
       "       [3.        , 3.        , 3.        ],\n",
       "       [3.        , 3.        , 3.        ],\n",
       "       [4.34477973, 4.34477973, 4.34477973]])"
      ]
     },
     "execution_count": 9,
     "metadata": {},
     "output_type": "execute_result"
    }
   ],
   "source": [
    "rowsum = np.dot(np.sum(y, axis=1).reshape(6,1), one)\n",
    "rowsum"
   ]
  },
  {
   "cell_type": "code",
   "execution_count": 10,
   "metadata": {},
   "outputs": [
    {
     "data": {
      "text/plain": [
       "array([[0.33333333, 0.33333333, 0.33333333],\n",
       "       [0.33333333, 0.33333333, 0.33333333],\n",
       "       [0.41291302, 0.26489475, 0.32219223],\n",
       "       [0.33333333, 0.33333333, 0.33333333],\n",
       "       [0.33333333, 0.33333333, 0.33333333],\n",
       "       [0.38539428, 0.23016127, 0.38444445]])"
      ]
     },
     "execution_count": 10,
     "metadata": {},
     "output_type": "execute_result"
    }
   ],
   "source": [
    "y/rowsum"
   ]
  },
  {
   "cell_type": "markdown",
   "metadata": {},
   "source": [
    "[[0.33333334 0.33333334 0.33333334]\n",
    " [0.23776318 0.23776318 0.52447367]\n",
    " [0.25876632 0.12450396 0.61672974]\n",
    " [0.33333334 0.33333334 0.33333334]\n",
    " [0.33333334 0.33333334 0.33333334]\n",
    " [0.45341504 0.16840793 0.37817708]]"
   ]
  },
  {
   "cell_type": "code",
   "execution_count": 11,
   "metadata": {},
   "outputs": [
    {
     "data": {
      "text/plain": [
       "array([1., 1., 1., 1., 1., 1.])"
      ]
     },
     "execution_count": 11,
     "metadata": {},
     "output_type": "execute_result"
    }
   ],
   "source": [
    "np.sum(y/rowsum, axis=1)"
   ]
  },
  {
   "cell_type": "markdown",
   "metadata": {},
   "source": [
    "## 손실 함수 - Cross Entropy"
   ]
  },
  {
   "cell_type": "markdown",
   "metadata": {},
   "source": [
    "예측값과 실제값 사이의 확률분포 차이를 계산"
   ]
  },
  {
   "cell_type": "code",
   "execution_count": 45,
   "metadata": {},
   "outputs": [],
   "source": [
    "cost = tf.reduce_mean(-tf.reduce_sum(Y*tf.log(model), axis=1)) # axis=1 => 행별로"
   ]
  },
  {
   "cell_type": "code",
   "execution_count": 46,
   "metadata": {},
   "outputs": [
    {
     "name": "stdout",
     "output_type": "stream",
     "text": [
      "1.0753595\n"
     ]
    }
   ],
   "source": [
    "sess = tf.Session()\n",
    "sess.run(tf.global_variables_initializer()) # Variable을 사용하면 값을 출력하기 전에 초기화를 한 번 시켜줘야 함\n",
    "print(sess.run(cost, feed_dict={X: x_data, Y: y_data}))\n",
    "sess.close()"
   ]
  },
  {
   "cell_type": "markdown",
   "metadata": {},
   "source": [
    "## 학습"
   ]
  },
  {
   "cell_type": "code",
   "execution_count": 47,
   "metadata": {},
   "outputs": [],
   "source": [
    "# 기본적인 경사하강법으로 최적화\n",
    "optimizer = tf.train.GradientDescentOptimizer(learning_rate=0.01)\n",
    "train_op = optimizer.minimize(cost)"
   ]
  },
  {
   "cell_type": "code",
   "execution_count": 48,
   "metadata": {},
   "outputs": [],
   "source": [
    "# 텐서플로의 세션의 초기화\n",
    "init = tf.global_variables_initializer()\n",
    "sess= tf.Session()\n",
    "sess.run(init)"
   ]
  },
  {
   "cell_type": "code",
   "execution_count": 49,
   "metadata": {},
   "outputs": [
    {
     "name": "stdout",
     "output_type": "stream",
     "text": [
      "10 1.1726671\n",
      "20 1.1654277\n",
      "30 1.1584016\n",
      "40 1.1515696\n",
      "50 1.1449652\n",
      "60 1.1385797\n",
      "70 1.1324058\n",
      "80 1.126422\n",
      "90 1.120586\n",
      "100 1.1149205\n"
     ]
    }
   ],
   "source": [
    "# 앞서 구성한 feature와 레이블 데이터를 이용해 학습을 100번 진행\n",
    "for step in range(100):\n",
    "    sess.run(train_op, feed_dict={X: x_data, Y: y_data})\n",
    "    \n",
    "    # 학습 도중 10번에 한 번씩 손실값을 출력\n",
    "    if (step + 1) % 10 ==0:\n",
    "        print(step+1, sess.run(cost, feed_dict={X:x_data, Y:y_data}))"
   ]
  },
  {
   "cell_type": "markdown",
   "metadata": {},
   "source": [
    "## 학습된 결과 확인"
   ]
  },
  {
   "cell_type": "code",
   "execution_count": 50,
   "metadata": {},
   "outputs": [
    {
     "name": "stdout",
     "output_type": "stream",
     "text": [
      "확률: [[0.33331427 0.33331427 0.33337143]\n",
      " [0.33333334 0.33333334 0.33333334]\n",
      " [0.3953231  0.30233848 0.30233848]\n",
      " [0.33331427 0.33331427 0.33337143]\n",
      " [0.33331427 0.33331427 0.33337143]\n",
      " [0.3947726  0.2719214  0.33330604]]\n",
      "예측값: [2 0 0 2 2 0]\n",
      "실제값: [0 1 2 0 0 2]\n"
     ]
    }
   ],
   "source": [
    "prediction = tf.argmax(model, axis=1)\n",
    "target = tf.argmax(Y, axis=1)\n",
    "print('확률:', sess.run(model, feed_dict={X: x_data}))\n",
    "print('예측값:', sess.run(prediction, feed_dict={X: x_data}))\n",
    "print('실제값:', sess.run(target, feed_dict={Y:y_data}))"
   ]
  },
  {
   "cell_type": "code",
   "execution_count": 51,
   "metadata": {},
   "outputs": [
    {
     "name": "stdout",
     "output_type": "stream",
     "text": [
      "정확도: 0.00\n"
     ]
    }
   ],
   "source": [
    "is_correct = tf.equal(prediction, target)\n",
    "accuracy = tf.reduce_mean(tf.cast(is_correct, tf.float32))\n",
    "print('정확도: %.2f' % sess.run(accuracy * 100,  feed_dict={X: x_data, Y: y_data}))"
   ]
  },
  {
   "cell_type": "markdown",
   "metadata": {},
   "source": [
    "+ 신경망이 한 층 밖에 안되어 정확도가 좋지 않다."
   ]
  },
  {
   "cell_type": "markdown",
   "metadata": {},
   "source": [
    "## 3. 심층 신경망 구현하기"
   ]
  },
  {
   "cell_type": "code",
   "execution_count": 53,
   "metadata": {},
   "outputs": [],
   "source": [
    "W1 = tf.Variable(tf.random_uniform([2, 10], -1., 1.))\n",
    "W2 = tf.Variable(tf.random_uniform([10, 3], -1., 1.))\n",
    "\n",
    "b1 = tf.Variable(tf.zeros([10]))\n",
    "b2 = tf.Variable(tf.zeros([3]))"
   ]
  },
  {
   "cell_type": "markdown",
   "metadata": {},
   "source": [
    "가중치\n",
    "+ W1 = [2, 10] -> [feature, 은닉층 뉴런 수]\n",
    "+ W2 = [10, 3] -> [은닉층 뉴런 수, 카테고리 수]"
   ]
  },
  {
   "cell_type": "markdown",
   "metadata": {},
   "source": [
    "편향\n",
    "+ b1 = [10] -> 은닉층의 뉴런 수\n",
    "+ b2 = [3] -> 카테고리 수"
   ]
  },
  {
   "cell_type": "markdown",
   "metadata": {},
   "source": [
    "+ 입력층과 출력층은 각각 feature와 카테고리 개수로 맞추고, 중간의 연결 부분은 맞닿은 층의 뉴런 수와 같도록 맞추면 된다.\n",
    "\n",
    "+ 중간의 연결 부분을 은닉층이라 하며, 은닉층의 뉴런 수는 하이퍼파라미터여서 실험을 통해 가장 적절한 수를 정하면 된다."
   ]
  },
  {
   "cell_type": "code",
   "execution_count": 55,
   "metadata": {},
   "outputs": [],
   "source": [
    "L1 = tf.add(tf.matmul(X, W1), b1)\n",
    "L1 = tf.nn.relu(L1)"
   ]
  },
  {
   "cell_type": "code",
   "execution_count": 56,
   "metadata": {},
   "outputs": [],
   "source": [
    "model = tf.add(tf.matmul(L1, W2), b2)"
   ]
  },
  {
   "cell_type": "code",
   "execution_count": 58,
   "metadata": {},
   "outputs": [],
   "source": [
    "cost = tf.reduce_mean(tf.nn.softmax_cross_entropy_with_logits_v2(labels=Y, logits=model))\n",
    "\n",
    "optimizer = tf.train.AdamOptimizer(learning_rate = 0.01)\n",
    "train_op = optimizer.minimize(cost)"
   ]
  },
  {
   "cell_type": "markdown",
   "metadata": {},
   "source": [
    "+ tensorflow에서 제공하는 cross entropy 함수 사용\n",
    "\n",
    "+ Gradient Descent Optimizer 대신 Adam Optimizer 사용"
   ]
  },
  {
   "cell_type": "code",
   "execution_count": 59,
   "metadata": {},
   "outputs": [
    {
     "name": "stdout",
     "output_type": "stream",
     "text": [
      "10 0.7709244\n",
      "20 0.5897104\n",
      "30 0.4422933\n",
      "40 0.33076715\n",
      "50 0.24666904\n",
      "60 0.17980693\n",
      "70 0.12858187\n",
      "80 0.09119012\n",
      "90 0.06500981\n",
      "100 0.047444765\n"
     ]
    }
   ],
   "source": [
    "# 텐서플로의 세션의 초기화\n",
    "init = tf.global_variables_initializer()\n",
    "sess= tf.Session()\n",
    "sess.run(init)\n",
    "\n",
    "# 앞서 구성한 feature와 레이블 데이터를 이용해 학습을 100번 진행\n",
    "for step in range(100):\n",
    "    sess.run(train_op, feed_dict={X: x_data, Y: y_data})\n",
    "    \n",
    "    # 학습 도중 10번에 한 번씩 손실값을 출력\n",
    "    if (step + 1) % 10 ==0:\n",
    "        print(step+1, sess.run(cost, feed_dict={X:x_data, Y:y_data}))"
   ]
  },
  {
   "cell_type": "code",
   "execution_count": 60,
   "metadata": {},
   "outputs": [
    {
     "name": "stdout",
     "output_type": "stream",
     "text": [
      "확률: [[ 1.3548102  -1.4525921  -2.9273758 ]\n",
      " [-4.016501   -0.58497566 -4.8790946 ]\n",
      " [-7.54511    -1.4889253   2.7040508 ]\n",
      " [ 1.3548102  -1.4525921  -2.9273758 ]\n",
      " [ 1.3548102  -1.4525921  -2.9273758 ]\n",
      " [-3.9074056  -1.9595642   2.7709727 ]]\n",
      "예측값: [0 1 2 0 0 2]\n",
      "실제값: [0 1 2 0 0 2]\n",
      "정확도: 100.00\n"
     ]
    }
   ],
   "source": [
    "prediction = tf.argmax(model, axis=1)\n",
    "target = tf.argmax(Y, axis=1)\n",
    "print('확률:', sess.run(model, feed_dict={X: x_data}))\n",
    "print('예측값:', sess.run(prediction, feed_dict={X: x_data}))\n",
    "print('실제값:', sess.run(target, feed_dict={Y:y_data}))\n",
    "\n",
    "is_correct = tf.equal(prediction, target)\n",
    "accuracy = tf.reduce_mean(tf.cast(is_correct, tf.float32))\n",
    "print('정확도: %.2f' % sess.run(accuracy * 100,  feed_dict={X: x_data, Y: y_data}))"
   ]
  },
  {
   "cell_type": "code",
   "execution_count": null,
   "metadata": {},
   "outputs": [],
   "source": []
  }
 ],
 "metadata": {
  "kernelspec": {
   "display_name": "Python 3",
   "language": "python",
   "name": "python3"
  },
  "language_info": {
   "codemirror_mode": {
    "name": "ipython",
    "version": 3
   },
   "file_extension": ".py",
   "mimetype": "text/x-python",
   "name": "python",
   "nbconvert_exporter": "python",
   "pygments_lexer": "ipython3",
   "version": "3.6.4"
  }
 },
 "nbformat": 4,
 "nbformat_minor": 2
}
