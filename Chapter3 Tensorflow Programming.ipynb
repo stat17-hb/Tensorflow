{
 "cells": [
  {
   "cell_type": "markdown",
   "metadata": {},
   "source": [
    "# Chapter3 텐서플로 프로그래밍"
   ]
  },
  {
   "cell_type": "markdown",
   "metadata": {},
   "source": [
    "## 3.1 텐서와 그래프 실행"
   ]
  },
  {
   "cell_type": "code",
   "execution_count": 1,
   "metadata": {},
   "outputs": [
    {
     "name": "stderr",
     "output_type": "stream",
     "text": [
      "C:\\Users\\kist1\\Anaconda3\\lib\\site-packages\\h5py\\__init__.py:36: FutureWarning: Conversion of the second argument of issubdtype from `float` to `np.floating` is deprecated. In future, it will be treated as `np.float64 == np.dtype(float).type`.\n",
      "  from ._conv import register_converters as _register_converters\n"
     ]
    }
   ],
   "source": [
    "import tensorflow as tf"
   ]
  },
  {
   "cell_type": "code",
   "execution_count": 3,
   "metadata": {},
   "outputs": [],
   "source": [
    "hello = tf.constant('Hello, Tensorflow!')"
   ]
  },
  {
   "cell_type": "code",
   "execution_count": 4,
   "metadata": {},
   "outputs": [
    {
     "name": "stdout",
     "output_type": "stream",
     "text": [
      "Tensor(\"Const_3:0\", shape=(), dtype=string)\n"
     ]
    }
   ],
   "source": [
    "print(hello)"
   ]
  },
  {
   "cell_type": "markdown",
   "metadata": {},
   "source": [
    "+ Tensor : n차원 array, list\n",
    "\n",
    "+ rank : array의 차원\n",
    "\n",
    "+ shape : array의 각 차원의 요소 수\n",
    "\n",
    "+ dtype : 해당 Tensor에 담긴 요소들의 자료형 - string, int, float 등이 올 수 있음"
   ]
  },
  {
   "cell_type": "code",
   "execution_count": 6,
   "metadata": {},
   "outputs": [
    {
     "name": "stdout",
     "output_type": "stream",
     "text": [
      "Tensor(\"Add_1:0\", shape=(), dtype=int32)\n"
     ]
    }
   ],
   "source": [
    "a = tf.constant(10)\n",
    "b = tf.constant(32)\n",
    "c = tf.add(a, b)\n",
    "print(c)"
   ]
  },
  {
   "cell_type": "markdown",
   "metadata": {},
   "source": [
    "tf.add 실행결과로 42가 나오지 않고 텐서의 형태가 나온다. 그 이유는 텐서플로 프로그램이 구조가\n",
    "\n",
    "1. 그래프 생성\n",
    "2. 그래프 실행\n",
    "\n",
    "으로 분리되어 있기 때문이다.\n",
    "\n",
    "+ 그래프 : 텐서들의 연산 모음\n",
    "\n",
    "+ 지연 실행(lazy evaluation) : 텐서와 텐서의 연산들을 먼저 정의하여 그래프를 만들고, 이후에 필요할 때 연산을 실행하는 코드를 넣어 원하는 시점에 실제 연산을 수행하도록 함"
   ]
  },
  {
   "cell_type": "markdown",
   "metadata": {},
   "source": [
    "그래프의 실행은 Session 안에서 이루어 진다."
   ]
  },
  {
   "cell_type": "code",
   "execution_count": 7,
   "metadata": {},
   "outputs": [
    {
     "name": "stdout",
     "output_type": "stream",
     "text": [
      "b'Hello, Tensorflow!'\n",
      "[10, 32, 42]\n"
     ]
    }
   ],
   "source": [
    "sess = tf.Session()\n",
    "\n",
    "print(sess.run(hello))\n",
    "print(sess.run([a,b,c]))\n",
    "\n",
    "sess.close()"
   ]
  },
  {
   "cell_type": "markdown",
   "metadata": {},
   "source": [
    "## 3.2 플레이스홀더와 변수"
   ]
  },
  {
   "cell_type": "markdown",
   "metadata": {},
   "source": [
    "+ 플레이스홀더 : 그래프에 사용할 입력값을 나중에 받기 위해 사용하는 매개변수(parameter)\n",
    "\n",
    "+ 변수 : 그래프를 최적화하는 용도로 텐서플로가(학습 함수들이) 학습한 결과를 갱신하기 위해 사용"
   ]
  },
  {
   "cell_type": "code",
   "execution_count": 11,
   "metadata": {},
   "outputs": [
    {
     "name": "stdout",
     "output_type": "stream",
     "text": [
      "Tensor(\"Placeholder_1:0\", shape=(?, 3), dtype=float32)\n"
     ]
    }
   ],
   "source": [
    "# tf.placeholder: 계산을 실행할 때 입력값을 받는 변수로 사용합니다.\n",
    "# None 은 크기가 정해지지 않았음을 의미합니다.\n",
    "X = tf.placeholder(tf.float32, [None, 3])\n",
    "print(X)"
   ]
  },
  {
   "cell_type": "code",
   "execution_count": 12,
   "metadata": {},
   "outputs": [],
   "source": [
    "# X 플레이스홀더에 넣을 값 입니다.\n",
    "# 플레이스홀더에서 설정한 것 처럼, 두번째 차원의 요소의 갯수는 3개 입니다.\n",
    "x_data = [[1, 2, 3], [4, 5, 6]]"
   ]
  },
  {
   "cell_type": "code",
   "execution_count": 5,
   "metadata": {},
   "outputs": [],
   "source": [
    "# tf.Variable: 그래프를 계산하면서 최적화 할 변수들입니다. 이 값이 바로 신경망을 좌우하는 값들입니다.\n",
    "# tf.random_normal: 각 변수들의 초기값을 정규분포 랜덤 값으로 초기화합니다.\n",
    "W = tf.Variable(tf.random_normal([3, 2]))\n",
    "b = tf.Variable(tf.random_normal([2, 1]))"
   ]
  },
  {
   "cell_type": "code",
   "execution_count": 6,
   "metadata": {},
   "outputs": [],
   "source": [
    "# 입력값과 변수들을 계산할 수식을 작성합니다.\n",
    "# tf.matmul 처럼 mat* 로 되어 있는 함수로 행렬 계산을 수행합니다.\n",
    "expr = tf.matmul(X, W) + b"
   ]
  },
  {
   "cell_type": "code",
   "execution_count": 9,
   "metadata": {},
   "outputs": [
    {
     "name": "stdout",
     "output_type": "stream",
     "text": [
      "=== x_data ===\n",
      "[[1, 2, 3], [4, 5, 6]]\n",
      "=== W ===\n",
      "[[-0.52401257 -0.4044938 ]\n",
      " [-0.9084852  -0.07749461]\n",
      " [-0.4667885   0.2050284 ]]\n",
      "=== b ===\n",
      "[[-0.26481482]\n",
      " [ 0.74401605]]\n",
      "=== expr ===\n",
      "[[-4.006163   -0.20921269]\n",
      " [-8.695191   -0.03126192]]\n"
     ]
    }
   ],
   "source": [
    "sess = tf.Session()\n",
    "# 위에서 설정한 Variable 들의 값들을 초기화 하기 위해\n",
    "# 처음에 tf.global_variables_initializer 를 한 번 실행해야 합니다.\n",
    "sess.run(tf.global_variables_initializer())\n",
    "\n",
    "print(\"=== x_data ===\")\n",
    "print(x_data)\n",
    "print(\"=== W ===\")\n",
    "print(sess.run(W))\n",
    "print(\"=== b ===\")\n",
    "print(sess.run(b))\n",
    "print(\"=== expr ===\")\n",
    "# expr 수식에는 X 라는 입력값이 필요합니다.\n",
    "# 따라서 expr 실행시에는 이 변수에 대한 실제 입력값을 다음처럼 넣어줘야합니다.\n",
    "print(sess.run(expr, feed_dict={X: x_data}))\n",
    "\n",
    "sess.close()"
   ]
  },
  {
   "cell_type": "markdown",
   "metadata": {},
   "source": [
    "+ feed_dict : 매개변수로 그래프를 실행할 때 사용할 입력값을 지정\n",
    "\n",
    "+ X가 플레이스홀더, 여기에 데이터 값을 넣어줘야 실행이 된다."
   ]
  },
  {
   "cell_type": "markdown",
   "metadata": {},
   "source": [
    "# 3.3 선형 회귀 모델 구현하기"
   ]
  },
  {
   "cell_type": "code",
   "execution_count": 29,
   "metadata": {},
   "outputs": [],
   "source": [
    "# 데이터 값 입력\n",
    "x_data = [1, 2, 3]\n",
    "y_data = [1, 2, 3]"
   ]
  },
  {
   "cell_type": "code",
   "execution_count": 30,
   "metadata": {},
   "outputs": [],
   "source": [
    "# W와 b를 U(-1,1)에서 랜덤하게 하나씩 뽑음\n",
    "W = tf.Variable(tf.random_uniform([1], -1.0, 1.0))\n",
    "b = tf.Variable(tf.random_uniform([1], -1.0, 1.0))"
   ]
  },
  {
   "cell_type": "code",
   "execution_count": 31,
   "metadata": {},
   "outputs": [
    {
     "name": "stdout",
     "output_type": "stream",
     "text": [
      "[0.16932154]\n",
      "[-0.65113306]\n"
     ]
    }
   ],
   "source": [
    "sess = tf.Session()\n",
    "sess.run(tf.global_variables_initializer())\n",
    "\n",
    "print(sess.run(W))\n",
    "print(sess.run(b))\n",
    "\n",
    "sess.close()"
   ]
  },
  {
   "cell_type": "code",
   "execution_count": 32,
   "metadata": {},
   "outputs": [
    {
     "name": "stdout",
     "output_type": "stream",
     "text": [
      "Tensor(\"X_1:0\", dtype=float32)\n",
      "Tensor(\"Y_1:0\", dtype=float32)\n"
     ]
    }
   ],
   "source": [
    "# 자료를 입력받을 플레이스홀더를 설정\n",
    "# name: 나중에 텐서보드등으로 값의 변화를 추적하거나 살펴보기 쉽게 하기 위해 이름을 붙여줍니다.\n",
    "X = tf.placeholder(tf.float32, name=\"X\")\n",
    "Y = tf.placeholder(tf.float32, name=\"Y\")\n",
    "print(X)\n",
    "print(Y)"
   ]
  },
  {
   "cell_type": "code",
   "execution_count": 33,
   "metadata": {},
   "outputs": [],
   "source": [
    "# X 와 Y 의 상관 관계를 분석하기 위한 가설 수식을 작성합니다.\n",
    "# y = W * x + b\n",
    "# W 와 X 가 행렬이 아니므로 tf.matmul 이 아니라 기본 곱셈 기호를 사용했습니다.\n",
    "hypothesis = W * X + b"
   ]
  },
  {
   "cell_type": "code",
   "execution_count": 36,
   "metadata": {},
   "outputs": [
    {
     "name": "stdout",
     "output_type": "stream",
     "text": [
      "[-0.80913067 -0.9600954  -1.1110601 ]\n"
     ]
    }
   ],
   "source": [
    "sess = tf.Session()\n",
    "sess.run(tf.global_variables_initializer())\n",
    "print(sess.run(hypothesis, feed_dict={X: x_data}))\n",
    "sess.close()"
   ]
  },
  {
   "cell_type": "code",
   "execution_count": 22,
   "metadata": {},
   "outputs": [],
   "source": [
    "# 손실 함수를 작성합니다.\n",
    "# mean(h - Y)^2 : 예측값과 실제값의 거리를 비용(손실) 함수로 정합니다.\n",
    "cost = tf.reduce_mean(tf.square(hypothesis - Y))"
   ]
  },
  {
   "cell_type": "code",
   "execution_count": 23,
   "metadata": {},
   "outputs": [],
   "source": [
    "# 텐서플로우에 기본적으로 포함되어 있는 함수를 이용해 경사 하강법 최적화를 수행합니다.\n",
    "optimizer = tf.train.GradientDescentOptimizer(learning_rate=0.1)"
   ]
  },
  {
   "cell_type": "code",
   "execution_count": 24,
   "metadata": {},
   "outputs": [],
   "source": [
    "# 비용을 최소화 하는 것이 최종 목표\n",
    "train_op = optimizer.minimize(cost)"
   ]
  },
  {
   "cell_type": "code",
   "execution_count": 25,
   "metadata": {},
   "outputs": [
    {
     "name": "stdout",
     "output_type": "stream",
     "text": [
      "0 0.69398785 [1.1622515] [-0.27369928]\n",
      "1 0.020131372 [1.1202965] [-0.28386003]\n",
      "2 0.011519536 [1.1215638] [-0.27520663]\n",
      "3 0.010880898 [1.118187] [-0.2687908]\n",
      "4 0.010362969 [1.1153954] [-0.26230744]\n",
      "5 0.009870689 [1.1126161] [-0.25600412]\n",
      "6 0.009401833 [1.1099094] [-0.24984974]\n",
      "7 0.008955234 [1.1072673] [-0.24384354]\n",
      "8 0.008529857 [1.1046886] [-0.23798172]\n",
      "9 0.008124686 [1.1021719] [-0.23226084]\n",
      "10 0.0077387523 [1.0997158] [-0.22667742]\n",
      "11 0.0073711686 [1.0973186] [-0.22122827]\n",
      "12 0.007021019 [1.0949793] [-0.21591008]\n",
      "13 0.0066875294 [1.092696] [-0.21071978]\n",
      "14 0.0063698585 [1.0904677] [-0.2056542]\n",
      "15 0.006067291 [1.0882928] [-0.20071045]\n",
      "16 0.0057790815 [1.0861704] [-0.1958855]\n",
      "17 0.0055045807 [1.0840989] [-0.19117658]\n",
      "18 0.00524311 [1.0820773] [-0.18658084]\n",
      "19 0.004994056 [1.0801042] [-0.18209557]\n",
      "20 0.004756835 [1.0781785] [-0.17771815]\n",
      "21 0.0045308894 [1.0762992] [-0.17344594]\n",
      "22 0.004315665 [1.074465] [-0.16927643]\n",
      "23 0.0041106665 [1.0726749] [-0.16520715]\n",
      "24 0.003915412 [1.0709279] [-0.16123568]\n",
      "25 0.0037294282 [1.0692228] [-0.15735969]\n",
      "26 0.0035522748 [1.0675588] [-0.15357687]\n",
      "27 0.0033835378 [1.0659347] [-0.149885]\n",
      "28 0.0032228187 [1.0643497] [-0.14628187]\n",
      "29 0.0030697268 [1.0628028] [-0.14276536]\n",
      "30 0.00292392 [1.061293] [-0.13933341]\n",
      "31 0.002785025 [1.0598196] [-0.13598391]\n",
      "32 0.0026527366 [1.0583816] [-0.13271494]\n",
      "33 0.00252673 [1.0569781] [-0.12952457]\n",
      "34 0.0024067108 [1.0556084] [-0.1264109]\n",
      "35 0.0022923925 [1.0542716] [-0.12337208]\n",
      "36 0.0021834967 [1.052967] [-0.12040628]\n",
      "37 0.0020797753 [1.0516937] [-0.11751179]\n",
      "38 0.001980992 [1.0504509] [-0.11468691]\n",
      "39 0.0018868936 [1.0492382] [-0.1119299]\n",
      "40 0.0017972634 [1.0480545] [-0.10923921]\n",
      "41 0.0017118951 [1.0468993] [-0.10661315]\n",
      "42 0.001630576 [1.0457718] [-0.10405025]\n",
      "43 0.0015531252 [1.0446715] [-0.10154893]\n",
      "44 0.0014793467 [1.0435977] [-0.09910776]\n",
      "45 0.0014090767 [1.0425496] [-0.09672529]\n",
      "46 0.0013421467 [1.0415268] [-0.09440008]\n",
      "47 0.0012783895 [1.0405285] [-0.09213078]\n",
      "48 0.0012176662 [1.0395542] [-0.08991603]\n",
      "49 0.0011598319 [1.0386033] [-0.08775453]\n",
      "50 0.0011047364 [1.0376754] [-0.08564495]\n",
      "51 0.00105226 [1.0367696] [-0.08358611]\n",
      "52 0.001002274 [1.0358858] [-0.08157673]\n",
      "53 0.00095466524 [1.0350231] [-0.07961571]\n",
      "54 0.00090932054 [1.0341811] [-0.07770181]\n",
      "55 0.0008661268 [1.0333594] [-0.07583389]\n",
      "56 0.0008249851 [1.0325575] [-0.07401087]\n",
      "57 0.0007857966 [1.0317749] [-0.0722317]\n",
      "58 0.0007484685 [1.031011] [-0.0704953]\n",
      "59 0.00071291527 [1.0302656] [-0.06880063]\n",
      "60 0.00067905366 [1.0295379] [-0.06714673]\n",
      "61 0.0006467977 [1.0288279] [-0.06553254]\n",
      "62 0.000616077 [1.0281348] [-0.0639572]\n",
      "63 0.00058681093 [1.0274585] [-0.06241969]\n",
      "64 0.0005589361 [1.0267985] [-0.06091916]\n",
      "65 0.0005323886 [1.0261542] [-0.05945473]\n",
      "66 0.0005071 [1.0255255] [-0.05802546]\n",
      "67 0.00048301046 [1.0249119] [-0.05663055]\n",
      "68 0.00046006593 [1.024313] [-0.05526919]\n",
      "69 0.00043821256 [1.0237286] [-0.05394053]\n",
      "70 0.00041739797 [1.0231581] [-0.05264387]\n",
      "71 0.00039757264 [1.0226014] [-0.05137833]\n",
      "72 0.00037868647 [1.0220581] [-0.05014322]\n",
      "73 0.00036069984 [1.0215278] [-0.04893783]\n",
      "74 0.0003435642 [1.0210103] [-0.04776137]\n",
      "75 0.0003272429 [1.0205053] [-0.0466132]\n",
      "76 0.00031169972 [1.0200124] [-0.04549268]\n",
      "77 0.00029689472 [1.0195312] [-0.0443991]\n",
      "78 0.00028279304 [1.0190617] [-0.04333178]\n",
      "79 0.00026936 [1.0186034] [-0.0422901]\n",
      "80 0.00025656438 [1.0181563] [-0.04127346]\n",
      "81 0.00024437878 [1.0177197] [-0.04028129]\n",
      "82 0.00023276934 [1.0172938] [-0.03931293]\n",
      "83 0.00022171275 [1.0168781] [-0.03836786]\n",
      "84 0.00021118206 [1.0164723] [-0.03744555]\n",
      "85 0.00020114977 [1.0160763] [-0.03654538]\n",
      "86 0.00019159597 [1.0156898] [-0.03566684]\n",
      "87 0.00018249277 [1.0153128] [-0.03480941]\n",
      "88 0.00017382663 [1.0149446] [-0.03397266]\n",
      "89 0.0001655681 [1.0145854] [-0.03315594]\n",
      "90 0.00015770285 [1.0142348] [-0.0323589]\n",
      "91 0.00015021283 [1.0138925] [-0.03158104]\n",
      "92 0.00014307776 [1.0135586] [-0.03082184]\n",
      "93 0.00013628193 [1.0132326] [-0.03008093]\n",
      "94 0.0001298063 [1.0129145] [-0.02935777]\n",
      "95 0.00012364202 [1.0126041] [-0.02865203]\n",
      "96 0.00011776856 [1.0123011] [-0.02796326]\n",
      "97 0.00011217629 [1.0120053] [-0.02729106]\n",
      "98 0.00010684631 [1.0117167] [-0.02663498]\n",
      "99 0.000101770485 [1.0114352] [-0.02599467]\n",
      "\n",
      "=== Test ===\n",
      "X: 5, Y: [5.031181]\n",
      "X: 2.5, Y: [2.502593]\n"
     ]
    }
   ],
   "source": [
    "# 세션을 생성하고 초기화합니다.\n",
    "with tf.Session() as sess:\n",
    "    sess.run(tf.global_variables_initializer())\n",
    "\n",
    "    # 최적화를 100번 수행합니다.\n",
    "    for step in range(100):\n",
    "        # sess.run 을 통해 train_op 와 cost 그래프를 계산합니다.\n",
    "        # 이 때, 가설 수식에 넣어야 할 실제값을 feed_dict 을 통해 전달합니다.\n",
    "        _, cost_val = sess.run([train_op, cost], feed_dict={X: x_data, Y: y_data})\n",
    "\n",
    "        print(step, cost_val, sess.run(W), sess.run(b))\n",
    "\n",
    "    # 최적화가 완료된 모델에 테스트 값을 넣고 결과가 잘 나오는지 확인해봅니다.\n",
    "    print(\"\\n=== Test ===\")\n",
    "    print(\"X: 5, Y:\", sess.run(hypothesis, feed_dict={X: 5}))\n",
    "    print(\"X: 2.5, Y:\", sess.run(hypothesis, feed_dict={X: 2.5}))"
   ]
  },
  {
   "cell_type": "markdown",
   "metadata": {},
   "source": [
    "+ 손실값이 점점 줄어든다면 학습이 정상적으로 이뤄지고 있는 것이다.\n",
    "\n",
    "+ 5와 2.5는 학습에 사용되지 않았던 값이다."
   ]
  },
  {
   "cell_type": "code",
   "execution_count": 107,
   "metadata": {},
   "outputs": [],
   "source": [
    "import csv\n",
    "\n",
    "f = open('score.csv', 'r', encoding='utf-8')\n",
    "rdr = csv.reader(f)\n",
    "X = []\n",
    "Y = []\n",
    "for line in rdr:\n",
    "    X.append(line[0])\n",
    "    Y.append(line[1])\n",
    "f.close() "
   ]
  },
  {
   "cell_type": "code",
   "execution_count": 108,
   "metadata": {},
   "outputs": [
    {
     "name": "stdout",
     "output_type": "stream",
     "text": [
      "0 0.6495715 [1.2783499] [-0.54327965]\n",
      "1 0.051832538 [1.2358686] [-0.54596364]\n",
      "2 0.042598892 [1.23411] [-0.53111833]\n",
      "3 0.040494535 [1.2280546] [-0.51853865]\n",
      "4 0.03857005 [1.222619] [-0.5060528]\n",
      "5 0.036737926 [1.2172624] [-0.49388987]\n",
      "6 0.03499286 [1.2120401] [-0.48201686]\n",
      "7 0.033330675 [1.2069427] [-0.47042954]\n",
      "8 0.03174745 [1.201968] [-0.45912072]\n",
      "9 0.030239403 [1.1971128] [-0.44808376]\n",
      "10 0.028803019 [1.1923743] [-0.43731213]\n",
      "11 0.027434854 [1.1877497] [-0.42679945]\n",
      "12 0.02613164 [1.1832365] [-0.41653943]\n",
      "13 0.02489038 [1.1788316] [-0.40652612]\n",
      "14 0.023708075 [1.1745325] [-0.39675352]\n",
      "15 0.02258194 [1.1703368] [-0.38721582]\n",
      "16 0.021509277 [1.1662421] [-0.3779074]\n",
      "17 0.020487567 [1.1622458] [-0.36882278]\n",
      "18 0.019514387 [1.1583455] [-0.35995653]\n",
      "19 0.018587433 [1.154539] [-0.35130343]\n",
      "20 0.017704524 [1.150824] [-0.34285834]\n",
      "21 0.01686353 [1.1471983] [-0.33461624]\n",
      "22 0.016062524 [1.1436597] [-0.32657233]\n",
      "23 0.01529953 [1.1402062] [-0.31872174]\n",
      "24 0.014572785 [1.1368358] [-0.31105986]\n",
      "25 0.013880563 [1.1335464] [-0.30358222]\n",
      "26 0.013221234 [1.1303359] [-0.29628432]\n",
      "27 0.012593232 [1.1272027] [-0.28916183]\n",
      "28 0.011995018 [1.1241449] [-0.28221056]\n",
      "29 0.01142525 [1.1211606] [-0.2754264]\n",
      "30 0.0108825555 [1.1182479] [-0.26880535]\n",
      "31 0.010365619 [1.1154053] [-0.26234344]\n",
      "32 0.00987324 [1.1126311] [-0.25603688]\n",
      "33 0.00940425 [1.1099235] [-0.24988192]\n",
      "34 0.008957552 [1.107281] [-0.24387494]\n",
      "35 0.008532048 [1.104702] [-0.23801233]\n",
      "36 0.008126775 [1.102185] [-0.23229067]\n",
      "37 0.0077407435 [1.0997286] [-0.22670653]\n",
      "38 0.0073730536 [1.0973312] [-0.22125667]\n",
      "39 0.0070228335 [1.0949914] [-0.21593781]\n",
      "40 0.006689239 [1.0927079] [-0.21074682]\n",
      "41 0.006371498 [1.0904793] [-0.20568062]\n",
      "42 0.0060688406 [1.0883042] [-0.2007362]\n",
      "43 0.0057805697 [1.0861814] [-0.19591063]\n",
      "44 0.005505988 [1.0841097] [-0.19120106]\n",
      "45 0.005244452 [1.0820878] [-0.18660471]\n",
      "46 0.0049953368 [1.0801144] [-0.18211886]\n",
      "47 0.004758054 [1.0781885] [-0.17774083]\n",
      "48 0.004532045 [1.0763088] [-0.17346808]\n",
      "49 0.004316771 [1.0744745] [-0.16929801]\n",
      "50 0.0041117216 [1.0726842] [-0.1652282]\n",
      "51 0.0039164047 [1.0709369] [-0.16125622]\n",
      "52 0.0037303695 [1.0692316] [-0.15737975]\n",
      "53 0.0035531872 [1.0675673] [-0.15359646]\n",
      "54 0.0033844023 [1.065943] [-0.14990412]\n",
      "55 0.003223643 [1.0643579] [-0.1463005]\n",
      "56 0.0030705165 [1.0628107] [-0.14278355]\n",
      "57 0.0029246572 [1.0613008] [-0.1393511]\n",
      "58 0.0027857379 [1.0598272] [-0.13600117]\n",
      "59 0.0026534107 [1.058389] [-0.13273183]\n",
      "60 0.0025273697 [1.0569854] [-0.12954104]\n",
      "61 0.002407326 [1.0556154] [-0.126427]\n",
      "62 0.0022929742 [1.0542785] [-0.12338778]\n",
      "63 0.002184057 [1.0529736] [-0.12042163]\n",
      "64 0.0020803085 [1.0517002] [-0.11752674]\n",
      "65 0.0019814982 [1.0504574] [-0.11470149]\n",
      "66 0.0018873694 [1.0492444] [-0.11194412]\n",
      "67 0.0017977183 [1.0480607] [-0.10925306]\n",
      "68 0.0017123242 [1.0469053] [-0.1066267]\n",
      "69 0.0016309893 [1.0457777] [-0.10406347]\n",
      "70 0.0015535128 [1.0446773] [-0.10156183]\n",
      "71 0.0014797245 [1.0436032] [-0.09912037]\n",
      "72 0.0014094355 [1.042555] [-0.09673757]\n",
      "73 0.001342487 [1.041532] [-0.09441205]\n",
      "74 0.0012787153 [1.0405337] [-0.09214246]\n",
      "75 0.0012179818 [1.0395591] [-0.08992744]\n",
      "76 0.0011601214 [1.0386082] [-0.0877656]\n",
      "77 0.0011050138 [1.0376801] [-0.08565576]\n",
      "78 0.0010525269 [1.0367743] [-0.08359668]\n",
      "79 0.0010025325 [1.0358902] [-0.08158705]\n",
      "80 0.0009549108 [1.0350275] [-0.07962573]\n",
      "81 0.0009095473 [1.0341855] [-0.07771158]\n",
      "82 0.00086634763 [1.0333637] [-0.07584348]\n",
      "83 0.0008251895 [1.0325617] [-0.07402026]\n",
      "84 0.00078599685 [1.0317789] [-0.07224087]\n",
      "85 0.0007486644 [1.0310149] [-0.07050428]\n",
      "86 0.0007131019 [1.0302694] [-0.06880939]\n",
      "87 0.0006792287 [1.0295417] [-0.06715527]\n",
      "88 0.00064696115 [1.0288316] [-0.06554091]\n",
      "89 0.0006162358 [1.0281384] [-0.06396538]\n",
      "90 0.0005869611 [1.027462] [-0.06242767]\n",
      "91 0.00055907737 [1.0268018] [-0.06092694]\n",
      "92 0.0005325221 [1.0261575] [-0.05946228]\n",
      "93 0.0005072287 [1.0255288] [-0.05803283]\n",
      "94 0.00048313278 [1.0249151] [-0.05663778]\n",
      "95 0.00046018293 [1.0243162] [-0.05527625]\n",
      "96 0.00043832607 [1.0237316] [-0.05394747]\n",
      "97 0.0004175033 [1.023161] [-0.05265061]\n",
      "98 0.00039767358 [1.0226043] [-0.05138491]\n",
      "99 0.0003787822 [1.022061] [-0.05014966]\n",
      "\n",
      "=== Test ===\n",
      "X: 30, Y: [30.61168]\n",
      "X: 10, Y: [10.17046]\n"
     ]
    }
   ],
   "source": [
    "# W와 b를 U(-1,1)에서 랜덤하게 하나씩 뽑음\n",
    "W = tf.Variable(tf.random_uniform([1], -1.0, 1.0))\n",
    "b = tf.Variable(tf.random_uniform([1], -1.0, 1.0))\n",
    "\n",
    "# 자료를 입력받을 플레이스홀더를 설정\n",
    "# name: 나중에 텐서보드등으로 값의 변화를 추적하거나 살펴보기 쉽게 하기 위해 이름을 붙여줍니다.\n",
    "X = tf.placeholder(tf.float32, name=\"X\")\n",
    "Y = tf.placeholder(tf.float32, name=\"Y\")\n",
    "\n",
    "# X 와 Y 의 상관 관계를 분석하기 위한 가설 수식을 작성합니다.\n",
    "# y = W * x + b\n",
    "# W 와 X 가 행렬이 아니므로 tf.matmul 이 아니라 기본 곱셈 기호를 사용했습니다.\n",
    "hypothesis = W * X + b\n",
    "\n",
    "# 손실 함수를 작성합니다.\n",
    "# mean(h - Y)^2 : 예측값과 실제값의 거리를 비용(손실) 함수로 정합니다.\n",
    "cost = tf.reduce_mean(tf.square(hypothesis - Y))\n",
    "\n",
    "# 텐서플로우에 기본적으로 포함되어 있는 함수를 이용해 경사 하강법 최적화를 수행합니다.\n",
    "optimizer = tf.train.GradientDescentOptimizer(learning_rate=0.1)\n",
    "\n",
    "# 비용을 최소화 하는 것이 최종 목표\n",
    "train_op = optimizer.minimize(cost)\n",
    "\n",
    "# 세션을 생성하고 초기화합니다.\n",
    "with tf.Session() as sess:\n",
    "    sess.run(tf.global_variables_initializer())\n",
    "\n",
    "    # 최적화를 100번 수행합니다.\n",
    "    for step in range(100):\n",
    "        # sess.run 을 통해 train_op 와 cost 그래프를 계산합니다.\n",
    "        # 이 때, 가설 수식에 넣어야 할 실제값을 feed_dict 을 통해 전달합니다.\n",
    "        _, cost_val = sess.run([train_op, cost], feed_dict={X: x_data, Y: y_data})\n",
    "\n",
    "        print(step, cost_val, sess.run(W), sess.run(b))\n",
    "\n",
    "    # 최적화가 완료된 모델에 테스트 값을 넣고 결과가 잘 나오는지 확인해봅니다.\n",
    "    print(\"\\n=== Test ===\")\n",
    "    print(\"X: 30, Y:\", sess.run(hypothesis, feed_dict={X: 30}))\n",
    "    print(\"X: 10, Y:\", sess.run(hypothesis, feed_dict={X: 10}))"
   ]
  },
  {
   "cell_type": "markdown",
   "metadata": {},
   "source": [
    "# Scikit-Learn 패키지를 사용한 선형회귀분석"
   ]
  },
  {
   "cell_type": "code",
   "execution_count": 66,
   "metadata": {},
   "outputs": [],
   "source": [
    "import csv\n",
    "f = open('score.csv', 'r', encoding='utf-8')\n",
    "rdr = csv.reader(f)\n",
    "X = []\n",
    "Y = []\n",
    "for line in rdr:\n",
    "    X.append(line[0])\n",
    "    Y.append(line[1])\n",
    "f.close() "
   ]
  },
  {
   "cell_type": "code",
   "execution_count": 87,
   "metadata": {},
   "outputs": [],
   "source": [
    "import numpy as np\n",
    "from sklearn.linear_model import LinearRegression\n",
    "X = np.array(X).astype(\"float64\").reshape(-1, 1)\n",
    "Y = np.array(Y).astype(\"float64\").reshape(-1, 1)\n",
    "model = LinearRegression().fit(X, Y)"
   ]
  },
  {
   "cell_type": "code",
   "execution_count": 88,
   "metadata": {},
   "outputs": [
    {
     "data": {
      "text/plain": [
       "array([[1.06512884]])"
      ]
     },
     "execution_count": 88,
     "metadata": {},
     "output_type": "execute_result"
    }
   ],
   "source": [
    "model.coef_"
   ]
  },
  {
   "cell_type": "code",
   "execution_count": 89,
   "metadata": {},
   "outputs": [
    {
     "data": {
      "text/plain": [
       "array([-1.9520264])"
      ]
     },
     "execution_count": 89,
     "metadata": {},
     "output_type": "execute_result"
    }
   ],
   "source": [
    "model.intercept_"
   ]
  },
  {
   "cell_type": "code",
   "execution_count": 90,
   "metadata": {},
   "outputs": [
    {
     "data": {
      "image/png": "[encoded data removed]",
      "text/plain": [
       "<matplotlib.figure.Figure at 0x1f3418e8908>"
      ]
     },
     "metadata": {},
     "output_type": "display_data"
    }
   ],
   "source": [
    "import matplotlib.pyplot as plt\n",
    "%matplotlib inline\n",
    "predictions = model.predict(X)\n",
    "\n",
    "plt.scatter(Y, predictions)\n",
    "plt.xlabel(\"Actual\")\n",
    "plt.ylabel(\"Pred\")\n",
    "plt.show()"
   ]
  },
  {
   "cell_type": "code",
   "execution_count": 94,
   "metadata": {},
   "outputs": [
    {
     "data": {
      "text/plain": [
       "array([[30.00183874]])"
      ]
     },
     "execution_count": 94,
     "metadata": {},
     "output_type": "execute_result"
    }
   ],
   "source": [
    "model.predict(30)"
   ]
  },
  {
   "cell_type": "code",
   "execution_count": 95,
   "metadata": {},
   "outputs": [
    {
     "data": {
      "text/plain": [
       "array([[8.69926198]])"
      ]
     },
     "execution_count": 95,
     "metadata": {},
     "output_type": "execute_result"
    }
   ],
   "source": [
    "model.predict(10)"
   ]
  },
  {
   "cell_type": "code",
   "execution_count": 91,
   "metadata": {},
   "outputs": [
    {
     "data": {
      "image/png": "[encoded data removed]",
      "text/plain": [
       "<matplotlib.figure.Figure at 0x1f34292a320>"
      ]
     },
     "metadata": {},
     "output_type": "display_data"
    }
   ],
   "source": [
    "plt.scatter(X, Y)\n",
    "plt.xlabel(\"X\")\n",
    "plt.ylabel(\"Y\")\n",
    "plt.show()"
   ]
  },
  {
   "cell_type": "markdown",
   "metadata": {},
   "source": [
    "## Boston dataset"
   ]
  },
  {
   "cell_type": "code",
   "execution_count": 71,
   "metadata": {},
   "outputs": [],
   "source": [
    "from sklearn.datasets import load_boston\n",
    "from sklearn.linear_model import LinearRegression\n",
    "\n",
    "boston = load_boston()\n",
    "model_boston = LinearRegression().fit(boston.data, boston.target)"
   ]
  },
  {
   "cell_type": "code",
   "execution_count": 55,
   "metadata": {},
   "outputs": [
    {
     "data": {
      "text/plain": [
       "array([-1.07170557e-01,  4.63952195e-02,  2.08602395e-02,  2.68856140e+00,\n",
       "       -1.77957587e+01,  3.80475246e+00,  7.51061703e-04, -1.47575880e+00,\n",
       "        3.05655038e-01, -1.23293463e-02, -9.53463555e-01,  9.39251272e-03,\n",
       "       -5.25466633e-01])"
      ]
     },
     "execution_count": 55,
     "metadata": {},
     "output_type": "execute_result"
    }
   ],
   "source": [
    "model_boston.coef_"
   ]
  },
  {
   "cell_type": "code",
   "execution_count": 56,
   "metadata": {},
   "outputs": [
    {
     "data": {
      "text/plain": [
       "36.49110328036198"
      ]
     },
     "execution_count": 56,
     "metadata": {},
     "output_type": "execute_result"
    }
   ],
   "source": [
    "model_boston.intercept_"
   ]
  },
  {
   "cell_type": "code",
   "execution_count": 61,
   "metadata": {},
   "outputs": [
    {
     "data": {
      "image/png": "[encoded data removed]",
      "text/plain": [
       "<matplotlib.figure.Figure at 0x1f3418554e0>"
      ]
     },
     "metadata": {},
     "output_type": "display_data"
    }
   ],
   "source": [
    "import matplotlib.pyplot as plt\n",
    "%matplotlib inline\n",
    "predictions = model_boston.predict(boston.data)\n",
    "\n",
    "plt.scatter(boston.target, predictions)\n",
    "plt.xlabel(\"Actual\")\n",
    "plt.ylabel(\"Pred\")\n",
    "plt.show()"
   ]
  },
  {
   "cell_type": "code",
   "execution_count": null,
   "metadata": {},
   "outputs": [],
   "source": []
  }
 ],
 "metadata": {
  "kernelspec": {
   "display_name": "Python 3",
   "language": "python",
   "name": "python3"
  },
  "language_info": {
   "codemirror_mode": {
    "name": "ipython",
    "version": 3
   },
   "file_extension": ".py",
   "mimetype": "text/x-python",
   "name": "python",
   "nbconvert_exporter": "python",
   "pygments_lexer": "ipython3",
   "version": "3.6.4"
  }
 },
 "nbformat": 4,
 "nbformat_minor": 2
}
